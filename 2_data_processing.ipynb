{
 "cells": [
  {
   "cell_type": "code",
   "execution_count": 28,
   "id": "9770a0be",
   "metadata": {},
   "outputs": [],
   "source": [
    "import os\n",
    "\n",
    "#from matplotlib import pyplot as plt\n",
    "import numpy as np\n",
    "import pandas as pd\n",
    "pd.options.display.max_rows = 10000\n",
    "pd.options.display.max_columns = 1000\n",
    "import scipy as sp\n",
    "import scipy.signal\n",
    "import scipy.stats\n",
    "\n",
    "import re\n",
    "\n",
    "import glob"
   ]
  },
  {
   "cell_type": "code",
   "execution_count": 29,
   "id": "220fbb4f",
   "metadata": {},
   "outputs": [],
   "source": [
    "def BandpassFilter(signal, pass_band):\n",
    "    b, a = sp.signal.butter(5, pass_band, btype='bandpass', fs=50)\n",
    "    return sp.signal.filtfilt(b, a, signal)"
   ]
  },
  {
   "cell_type": "code",
   "execution_count": 30,
   "id": "03fd7367",
   "metadata": {},
   "outputs": [],
   "source": [
    "path = r'C:\\Users\\aditj\\HawkinsLab\\Subject1.csv\\Copy of all Data\\TEST_COPY' # use your path\n",
    "def load_data(path):\n",
    "    all_files = glob.glob(path + \"/*.csv\")\n",
    "\n",
    "    li = []\n",
    "\n",
    "    for filename in all_files:\n",
    "        df = pd.read_csv(filename, index_col=None, header=0)\n",
    "        li.append(df)\n",
    "\n",
    "    frame = pd.concat(li, axis=0, ignore_index=True)\n",
    "\n",
    "    frame.drop(\"Time\", inplace = True, axis=1)\n",
    "    frame.drop(\"Resultant\", inplace=True, axis=1)\n",
    "    \n",
    "    return frame"
   ]
  },
  {
   "cell_type": "code",
   "execution_count": 46,
   "id": "46968093",
   "metadata": {
    "scrolled": true
   },
   "outputs": [],
   "source": [
    "def processing(df, window_length_s, window_shift_s, fs, df_dict):\n",
    "    window_length_s = 2\n",
    "    window_shift_s = 1\n",
    "    window_length = window_length_s * fs\n",
    "    window_shift = window_shift_s * fs\n",
    "\n",
    "    \n",
    "    for column in df:\n",
    "        filtered_s =  BandpassFilter(df[column], (1, 7.5))\n",
    "        df[column] = filtered_s\n",
    "        datalist = []\n",
    "        for i in range(0, len(df) - window_length, window_shift):\n",
    "                window = [df[column][i: i + window_length]]\n",
    "                #window = pd.Series(window)\n",
    "                #print(f\"window = {window[0].values}\")\n",
    "\n",
    "                if column in df_dict:\n",
    "                    #print(\"YES\")\n",
    "                    #print(f\"SIZE BEFORE: {len(df_dict[column])}\")\n",
    "                    df_dict[column].append(window[0].values)\n",
    "                    #print(f\"SIZE AFTER: {len(df_dict[column])}\")\n",
    "                else:\n",
    "                    df_dict[column] = [window[0].values]\n",
    "                    \n",
    "    return df_dict"
   ]
  },
  {
   "cell_type": "code",
   "execution_count": 41,
   "id": "899b4bb9",
   "metadata": {},
   "outputs": [],
   "source": [
    "def save_processed_data(df_dict, s1_labels, s2_labels):\n",
    "    total_labels = np.append(s1_labels, s2_labels)\n",
    "    total_labels\n",
    "    df_labels = pd.DataFrame(total_labels)\n",
    "    df_labels.to_csv(r\"C:\\Users\\aditj\\HawkinsLab\\Subject1.csv\\Copy of all Data\\Labels_TOTAL.csv\",index=False)\n",
    "    \n",
    "    dfX = pd.DataFrame(df_dict['X'])\n",
    "    dfX.to_csv(r\"C:\\Users\\aditj\\HawkinsLab\\Subject1.csv\\Copy of all Data\\X_axis_TOTAL.csv\",index=False)\n",
    "    \n",
    "    dfY = pd.DataFrame(df_dict['X'])\n",
    "    dfY.to_csv(r\"C:\\Users\\aditj\\HawkinsLab\\Subject1.csv\\Copy of all Data\\Y_axis_TOTAL.csv\",index=False)\n",
    "    \n",
    "    dfZ = pd.DataFrame(df_dict['Z'])\n",
    "    dfZ.to_csv(r\"C:\\Users\\aditj\\HawkinsLab\\Subject1.csv\\Copy of all Data\\Z_axis_TOTAL.csv\",index=False)"
   ]
  },
  {
   "cell_type": "code",
   "execution_count": 48,
   "id": "03440d64",
   "metadata": {},
   "outputs": [],
   "source": [
    "def main():\n",
    "    #Load data for Subject 1\n",
    "    df1 = load_data(r\"C:\\Users\\aditj\\HawkinsLab\\Subject1.csv\\Copy of all Data\\Subject 1 Data\")\n",
    "    \n",
    "    #Process data for Subject 1\n",
    "    df_dict = processing(df1, window_length_s = 2, window_shift_s = 1, fs=50, df_dict={})\n",
    "    \n",
    "    #create labels for Subject 1\n",
    "    len_sub1 = len(df_dict['X'])\n",
    "    s1_labels = np.ones(len_sub1)\n",
    "    \n",
    "    #Load data for Subject 2\n",
    "    df2 = load_data(r\"C:\\Users\\aditj\\HawkinsLab\\Subject1.csv\\Copy of all Data\\Subject 2 Data\")\n",
    "    #Process Data for Subject 2\n",
    "    df_dict = processing(df2, 2, 1, 50, df_dict)\n",
    "    \n",
    "    #Create Labels for Subject 2\n",
    "    len_sub2 = len(df_dict['X']) - len_sub1\n",
    "    s2_labels = np.ones(len_sub2) * 2\n",
    "    \n",
    "    #Save all files \n",
    "    save_processed_data(df_dict, s1_labels, s2_labels, )"
   ]
  },
  {
   "cell_type": "code",
   "execution_count": 49,
   "id": "1f8805b3",
   "metadata": {},
   "outputs": [],
   "source": [
    "main()"
   ]
  }
 ],
 "metadata": {
  "kernelspec": {
   "display_name": "Python 3",
   "language": "python",
   "name": "python3"
  },
  "language_info": {
   "codemirror_mode": {
    "name": "ipython",
    "version": 3
   },
   "file_extension": ".py",
   "mimetype": "text/x-python",
   "name": "python",
   "nbconvert_exporter": "python",
   "pygments_lexer": "ipython3",
   "version": "3.7.9"
  }
 },
 "nbformat": 4,
 "nbformat_minor": 5
}

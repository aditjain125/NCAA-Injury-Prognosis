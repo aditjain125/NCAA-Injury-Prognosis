{
 "cells": [
  {
   "cell_type": "markdown",
   "metadata": {},
   "source": [
    "# Exercise 1: Data Exploration\n",
    "\n",
    "Use the code below to explore the raw timeseries data. Come up with 5 observations that might help inform an algorithm that you build using this data."
   ]
  },
  {
   "cell_type": "markdown",
   "metadata": {},
   "source": [
    "## Imports"
   ]
  },
  {
   "cell_type": "code",
   "execution_count": 2,
   "metadata": {},
   "outputs": [],
   "source": [
    "import os\n",
    "\n",
    "from matplotlib import pyplot as plt\n",
    "import numpy as np\n",
    "import pandas as pd"
   ]
  },
  {
   "cell_type": "markdown",
   "metadata": {},
   "source": [
    "## Load Data"
   ]
  },
  {
   "cell_type": "code",
   "execution_count": 3,
   "metadata": {},
   "outputs": [],
   "source": [
    "data_dir = r\"C:\\Users\\aditj\\HawkinsLab\\Subject1.csv\\Copy of all Data\\Subject 1 Data\"\n",
    "filenames = [os.path.splitext(f)[0] for f in sorted(os.listdir(data_dir))]\n",
    "fs = 256"
   ]
  },
  {
   "cell_type": "code",
   "execution_count": 4,
   "metadata": {},
   "outputs": [],
   "source": [
    "data = []\n",
    "for f in filenames:\n",
    "#     subject = f.split('_')[0]\n",
    "#     activity = f.split('_')[1]\n",
    "    path = os.path.join(data_dir, f + '.csv')\n",
    "    df = pd.read_csv(path)\n",
    "    df = df.loc[: df.last_valid_index()]\n",
    "    #data.append((subject, activity, df))\n",
    "    data.append(df)"
   ]
  },
  {
   "cell_type": "markdown",
   "metadata": {},
   "source": [
    "## Offline\n",
    "\n",
    "Working in an offline notebook on your local machine is probably easier and faster for this exercise. See the instructions in the introductory lesson for this course to get started.\n",
    "\n",
    "Use the plotting code below to visualize the data."
   ]
  },
  {
   "cell_type": "markdown",
   "metadata": {},
   "source": [
    "### Pick a backend\n",
    "\n",
    "You can only pick one matplotlib backend so delete two lines of code from the cell below before running it."
   ]
  },
  {
   "cell_type": "code",
   "execution_count": 5,
   "metadata": {},
   "outputs": [],
   "source": [
    "# Use this backend if you are on MacOS\n",
    "#%matplotlib osx  \n",
    "# Use this backend if you are not. \n",
    "%matplotlib qt   \n",
    "# A third backend to try if the ones above don't work. \n",
    "#%matplotlib tk   "
   ]
  },
  {
   "cell_type": "markdown",
   "metadata": {},
   "source": [
    "### Sequentially Plot the Data\n",
    "\n",
    "You can interact with the plots with your mouse. Press any key on the keyboard to go to the next plot."
   ]
  },
  {
   "cell_type": "code",
   "execution_count": 6,
   "metadata": {},
   "outputs": [],
   "source": [
    "# for subject, activity, df in sorted(data, key=lambda x: x[1]):\n",
    "i = 1\n",
    "for df in data:\n",
    "    ts = np.arange(len(df)) / fs\n",
    "    plt.clf()\n",
    "    plt.plot(ts, df.X, label='x')\n",
    "    plt.plot(ts, df.Y, label='y')\n",
    "    plt.plot(ts, df.Z, label='z')\n",
    "    plt.title('{}'.format(i))\n",
    "    plt.legend()\n",
    "    plt.ylim((-25, 25))\n",
    "    plt.draw()\n",
    "    i += 1\n",
    "    while not plt.waitforbuttonpress():\n",
    "        pass"
   ]
  }
 ],
 "metadata": {
  "kernelspec": {
   "display_name": "Python 3",
   "language": "python",
   "name": "python3"
  },
  "language_info": {
   "codemirror_mode": {
    "name": "ipython",
    "version": 3
   },
   "file_extension": ".py",
   "mimetype": "text/x-python",
   "name": "python",
   "nbconvert_exporter": "python",
   "pygments_lexer": "ipython3",
   "version": "3.8.3"
  }
 },
 "nbformat": 4,
 "nbformat_minor": 2
}
